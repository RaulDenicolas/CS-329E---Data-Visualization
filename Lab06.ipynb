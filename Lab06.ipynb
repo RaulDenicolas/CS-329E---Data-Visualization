{
 "cells": [
  {
   "cell_type": "markdown",
   "metadata": {
    "colab_type": "text",
    "id": "gdoSGJp1fRAX"
   },
   "source": [
    "#### Lab 06: Temporal analysis\n",
    "\n",
    "##### Section:   \n",
    "\n",
    "##### Group #:  \n",
    "\n",
    "##### Student:\n",
    "##### UT EID:\n",
    "\n",
    "##### Student:\n",
    "##### UT EID:\n",
    "\n",
    "##### Student:\n",
    "##### UT EID:\n",
    "\n",
    "##### Student:\n",
    "##### UT EID:\n",
    "\n",
    "We encounter time series data in pretty much every domain, from finance to weather, from public health to renewable energies. Visualizations of temporal data may represent recorded observations from the past and/or predicted developments for the future, which is why visual representations of temporal data are so important and interesting. Especially, in the context of the ongoing climate and covid crises we encounter many time series visualizations. \n",
    "\n",
    "This tutorial is structured into three basic phases: 1. Prepare, 2. Process, and 3. Present.\n"
   ]
  },
  {
   "cell_type": "markdown",
   "metadata": {
    "colab_type": "text",
    "id": "w1GXDEeaz4OT"
   },
   "source": [
    "#### 1. Prepare \n",
    "\n",
    "Before we are able to do anything, we need to include the libraries that we are working with (as always):"
   ]
  },
  {
   "cell_type": "code",
   "execution_count": null,
   "metadata": {
    "colab": {},
    "colab_type": "code",
    "executionInfo": {
     "elapsed": 1167,
     "status": "ok",
     "timestamp": 1598364810904,
     "user": {
      "displayName": "Marian Dörk",
      "photoUrl": "https://lh3.googleusercontent.com/a-/AOh14GhqiajTdRS6NXELnqFzS3NNM3uxy6nUDGSMCjvAjw=s64",
      "userId": "05248840544598202773"
     },
     "user_tz": -120
    },
    "id": "zlp7zpRy9rRo"
   },
   "outputs": [],
   "source": [
    "import pandas as pd\n",
    "import altair as alt\n",
    "import scipy.signal # for the LOESS fitting"
   ]
  },
  {
   "cell_type": "markdown",
   "metadata": {
    "colab_type": "text",
    "id": "FbQDD--KpUwY"
   },
   "source": [
    "##### Parse dates and times\n",
    "\n",
    "In its most basic form, time series data contain a quantitative measure that changes over time. To reference a time point we use [Timestamp](https://pandas.pydata.org/pandas-docs/stable/reference/api/pandas.Timestamp.html) of Pandas as the data type for temporal entities.\n",
    "\n",
    "With **`to_datetime()`** you can create a Timestamp with a string containing a date and/or time. Pandas can infer the date and time from various date/time strings. Let's start with the present:\n"
   ]
  },
  {
   "cell_type": "code",
   "execution_count": null,
   "metadata": {
    "colab": {
     "base_uri": "https://localhost:8080/",
     "height": 34
    },
    "colab_type": "code",
    "executionInfo": {
     "elapsed": 1923,
     "status": "ok",
     "timestamp": 1598364811679,
     "user": {
      "displayName": "Marian Dörk",
      "photoUrl": "https://lh3.googleusercontent.com/a-/AOh14GhqiajTdRS6NXELnqFzS3NNM3uxy6nUDGSMCjvAjw=s64",
      "userId": "05248840544598202773"
     },
     "user_tz": -120
    },
    "id": "3QCZtIrXmKOH",
    "outputId": "6a1554f8-c883-4c66-f551-48b803c5f819"
   },
   "outputs": [],
   "source": [
    "pd.to_datetime(\"now\")"
   ]
  },
  {
   "cell_type": "markdown",
   "metadata": {
    "colab_type": "text",
    "id": "eAYopZX4mc3I"
   },
   "source": [
    "We can pass a range of date formats and Pandas will guess which numbers refer to years, months, days, hours, etc.:"
   ]
  },
  {
   "cell_type": "code",
   "execution_count": null,
   "metadata": {
    "colab": {
     "base_uri": "https://localhost:8080/",
     "height": 34
    },
    "colab_type": "code",
    "executionInfo": {
     "elapsed": 1899,
     "status": "ok",
     "timestamp": 1598364811679,
     "user": {
      "displayName": "Marian Dörk",
      "photoUrl": "https://lh3.googleusercontent.com/a-/AOh14GhqiajTdRS6NXELnqFzS3NNM3uxy6nUDGSMCjvAjw=s64",
      "userId": "05248840544598202773"
     },
     "user_tz": -120
    },
    "id": "F92IKMJE9mXV",
    "outputId": "5f057437-866f-4243-9c28-792f7e70996c"
   },
   "outputs": [],
   "source": [
    "pd.to_datetime('2023-10-13 3pm')"
   ]
  },
  {
   "cell_type": "markdown",
   "metadata": {
    "colab_type": "text",
    "id": "_1mZ0oHsHZaN"
   },
   "source": [
    "When expressing dates and times in written language, there is an ambiguity between the order of different entities. The most frequent ambiguity concerns the order of days and months, as they are typyically both expressed in double-digit numbers, unlike years that tend to be expressed with four digits. However, date conventions vary across the world.  For example, the following date might be interpreted differently depending on the country; it may refer to Saint Nicholas Day in 1929 or Anne Frank's birthday:"
   ]
  },
  {
   "cell_type": "code",
   "execution_count": null,
   "metadata": {
    "colab": {
     "base_uri": "https://localhost:8080/",
     "height": 34
    },
    "colab_type": "code",
    "executionInfo": {
     "elapsed": 1874,
     "status": "ok",
     "timestamp": 1598364811680,
     "user": {
      "displayName": "Marian Dörk",
      "photoUrl": "https://lh3.googleusercontent.com/a-/AOh14GhqiajTdRS6NXELnqFzS3NNM3uxy6nUDGSMCjvAjw=s64",
      "userId": "05248840544598202773"
     },
     "user_tz": -120
    },
    "id": "dA08J0G_HhjR",
    "outputId": "f7ee26b5-3589-455c-c164-e48e2c9fbe98"
   },
   "outputs": [],
   "source": [
    "pd.to_datetime('12.6.1929')"
   ]
  },
  {
   "cell_type": "markdown",
   "metadata": {
    "colab_type": "text",
    "id": "PnVaBh1dIdQO"
   },
   "source": [
    "To clarify towards Pandas that the first number refers to the day, you can add the parameter **`dayfirst`**:"
   ]
  },
  {
   "cell_type": "code",
   "execution_count": null,
   "metadata": {
    "colab": {
     "base_uri": "https://localhost:8080/",
     "height": 34
    },
    "colab_type": "code",
    "executionInfo": {
     "elapsed": 1848,
     "status": "ok",
     "timestamp": 1598364811680,
     "user": {
      "displayName": "Marian Dörk",
      "photoUrl": "https://lh3.googleusercontent.com/a-/AOh14GhqiajTdRS6NXELnqFzS3NNM3uxy6nUDGSMCjvAjw=s64",
      "userId": "05248840544598202773"
     },
     "user_tz": -120
    },
    "id": "TY2V3Yz4Imz9",
    "outputId": "6d0e72fc-6bfd-4490-871d-89ca191f61d9"
   },
   "outputs": [],
   "source": [
    "pd.to_datetime('12.6.1929', dayfirst=True)"
   ]
  },
  {
   "cell_type": "markdown",
   "metadata": {
    "colab_type": "text",
    "id": "6YSZLy4VJIXM"
   },
   "source": [
    "The method `to_datetime()` can also handle an array of date strings; it will return a `DatetimeIndex`, which is crucial for temporal indexing with Pandas."
   ]
  },
  {
   "cell_type": "code",
   "execution_count": null,
   "metadata": {
    "colab": {
     "base_uri": "https://localhost:8080/",
     "height": 85
    },
    "colab_type": "code",
    "executionInfo": {
     "elapsed": 1825,
     "status": "ok",
     "timestamp": 1598364811681,
     "user": {
      "displayName": "Marian Dörk",
      "photoUrl": "https://lh3.googleusercontent.com/a-/AOh14GhqiajTdRS6NXELnqFzS3NNM3uxy6nUDGSMCjvAjw=s64",
      "userId": "05248840544598202773"
     },
     "user_tz": -120
    },
    "id": "iQV2-_3MJaNL",
    "outputId": "05077596-d3e2-4616-9dc8-0558655441da"
   },
   "outputs": [],
   "source": [
    "sessions=[\"2.4.2020\", \"9.4.2020\", \"16.4.2020\", \"23.4.2020\", \"7.5.2020\", \"14.5.2020\", \"28.5.2020\", \"4.6.2020\", \"11.6.2020\", \"25.6.2020\", \"2.7.2020\", \"9.7.2020\"]\n",
    "pd.to_datetime(sessions, dayfirst=True)"
   ]
  },
  {
   "cell_type": "markdown",
   "metadata": {
    "colab_type": "text",
    "id": "IBomS957AQ6b"
   },
   "source": [
    "If you want to make extra sure that the date/time string is parsed correctly and quickly, you can pass a fixed **`format`** for the date/time strings to be parsed:"
   ]
  },
  {
   "cell_type": "code",
   "execution_count": null,
   "metadata": {
    "colab": {
     "base_uri": "https://localhost:8080/",
     "height": 34
    },
    "colab_type": "code",
    "executionInfo": {
     "elapsed": 1799,
     "status": "ok",
     "timestamp": 1598364811681,
     "user": {
      "displayName": "Marian Dörk",
      "photoUrl": "https://lh3.googleusercontent.com/a-/AOh14GhqiajTdRS6NXELnqFzS3NNM3uxy6nUDGSMCjvAjw=s64",
      "userId": "05248840544598202773"
     },
     "user_tz": -120
    },
    "id": "7zxy-vRYA3Fn",
    "outputId": "950d50c9-99f8-4cf9-8149-db22c98eb19e"
   },
   "outputs": [],
   "source": [
    "pd.to_datetime('2020-05-07', format=\"%Y-%m-%d\")"
   ]
  },
  {
   "cell_type": "markdown",
   "metadata": {
    "colab_type": "text",
    "id": "IhwiTCRfND7O"
   },
   "source": [
    "*see [list of format codes](https://docs.python.org/3/library/datetime.html#strftime-and-strptime-format-codes)!*"
   ]
  },
  {
   "cell_type": "markdown",
   "metadata": {
    "colab_type": "text",
    "id": "8z8s8BB-Zfqt"
   },
   "source": [
    "##### Load time series data\n",
    "\n",
    "In this tutorial we will be analyzing energy use in Germany from 2015 until 2018. \n",
    "\n",
    "First we will load the freely accessible data from the [OPSD project](https://open-power-system-data.org). `read_csv()` has a convenient feature, which lets you specify the column containing date/time information."
   ]
  },
  {
   "cell_type": "code",
   "execution_count": null,
   "metadata": {
    "colab": {},
    "colab_type": "code",
    "executionInfo": {
     "elapsed": 4233,
     "status": "ok",
     "timestamp": 1598364814159,
     "user": {
      "displayName": "Marian Dörk",
      "photoUrl": "https://lh3.googleusercontent.com/a-/AOh14GhqiajTdRS6NXELnqFzS3NNM3uxy6nUDGSMCjvAjw=s64",
      "userId": "05248840544598202773"
     },
     "user_tz": -120
    },
    "id": "BfjlZDYLo8Pp"
   },
   "outputs": [],
   "source": [
    "# read and create data frame and parse the dates\n",
    "\n",
    "df = pd.read_csv('german_energy_data.csv', parse_dates=['datetime']) "
   ]
  },
  {
   "cell_type": "markdown",
   "metadata": {
    "colab_type": "text",
    "id": "vB80U4O4TeDN"
   },
   "source": [
    "###### Do Sanity Checks"
   ]
  },
  {
   "cell_type": "code",
   "execution_count": null,
   "metadata": {},
   "outputs": [],
   "source": [
    "df.shape"
   ]
  },
  {
   "cell_type": "code",
   "execution_count": null,
   "metadata": {
    "colab": {},
    "colab_type": "code",
    "executionInfo": {
     "elapsed": 4233,
     "status": "ok",
     "timestamp": 1598364814164,
     "user": {
      "displayName": "Marian Dörk",
      "photoUrl": "https://lh3.googleusercontent.com/a-/AOh14GhqiajTdRS6NXELnqFzS3NNM3uxy6nUDGSMCjvAjw=s64",
      "userId": "05248840544598202773"
     },
     "user_tz": -120
    },
    "id": "WsKdCE8h5TPA"
   },
   "outputs": [],
   "source": [
    "df.head()"
   ]
  },
  {
   "cell_type": "code",
   "execution_count": null,
   "metadata": {},
   "outputs": [],
   "source": [
    "df.tail()"
   ]
  },
  {
   "cell_type": "code",
   "execution_count": null,
   "metadata": {},
   "outputs": [],
   "source": [
    "df.tail()"
   ]
  },
  {
   "cell_type": "code",
   "execution_count": null,
   "metadata": {},
   "outputs": [],
   "source": [
    "df.info()"
   ]
  },
  {
   "cell_type": "code",
   "execution_count": null,
   "metadata": {},
   "outputs": [],
   "source": [
    "df.describe()"
   ]
  },
  {
   "cell_type": "markdown",
   "metadata": {
    "colab_type": "text",
    "id": "tIl8s77KXJ73"
   },
   "source": [
    "\n",
    "The time parsing resulted in one hour to be included from 2014. This is because this dataset covers the years 2015-2018 according to German time, while the generic UTC time is one hour 'behind'. To avoid having this stray hour in the old year, we revert the timestamps back to Germany's timezone:"
   ]
  },
  {
   "cell_type": "code",
   "execution_count": null,
   "metadata": {
    "colab": {},
    "colab_type": "code",
    "executionInfo": {
     "elapsed": 4221,
     "status": "ok",
     "timestamp": 1598364814166,
     "user": {
      "displayName": "Marian Dörk",
      "photoUrl": "https://lh3.googleusercontent.com/a-/AOh14GhqiajTdRS6NXELnqFzS3NNM3uxy6nUDGSMCjvAjw=s64",
      "userId": "05248840544598202773"
     },
     "user_tz": -120
    },
    "id": "smhoBWgaXPvB"
   },
   "outputs": [],
   "source": [
    "df[\"datetime\"] = df[\"datetime\"].dt.tz_convert(\"Europe/Berlin\")\n",
    "df.head()"
   ]
  },
  {
   "cell_type": "markdown",
   "metadata": {
    "colab_type": "text",
    "id": "kCIIQ2L6nxFN"
   },
   "source": [
    "Did you notice that solar energy appears to be zero at the beginning and at the end of the DataFrame? Take a look at the time and you'll know why.\n",
    "\n",
    "In order to get a random data `sample()` there is a method of the same name, which gives us a random set of rows:"
   ]
  },
  {
   "cell_type": "code",
   "execution_count": null,
   "metadata": {
    "colab": {
     "base_uri": "https://localhost:8080/",
     "height": 359
    },
    "colab_type": "code",
    "executionInfo": {
     "elapsed": 4209,
     "status": "ok",
     "timestamp": 1598364814166,
     "user": {
      "displayName": "Marian Dörk",
      "photoUrl": "https://lh3.googleusercontent.com/a-/AOh14GhqiajTdRS6NXELnqFzS3NNM3uxy6nUDGSMCjvAjw=s64",
      "userId": "05248840544598202773"
     },
     "user_tz": -120
    },
    "id": "u3JCRbWsof6F",
    "outputId": "873d7c60-28e2-4d57-9dd8-4544d4268ce1"
   },
   "outputs": [],
   "source": [
    "df.sample(10)"
   ]
  },
  {
   "cell_type": "markdown",
   "metadata": {
    "colab_type": "text",
    "id": "C7kMtIA1a0g9"
   },
   "source": [
    "Now, let's take a look at the data types and values contained in our DataFrame:"
   ]
  },
  {
   "cell_type": "code",
   "execution_count": null,
   "metadata": {
    "colab": {
     "base_uri": "https://localhost:8080/",
     "height": 204
    },
    "colab_type": "code",
    "executionInfo": {
     "elapsed": 4152,
     "status": "ok",
     "timestamp": 1598364814167,
     "user": {
      "displayName": "Marian Dörk",
      "photoUrl": "https://lh3.googleusercontent.com/a-/AOh14GhqiajTdRS6NXELnqFzS3NNM3uxy6nUDGSMCjvAjw=s64",
      "userId": "05248840544598202773"
     },
     "user_tz": -120
    },
    "id": "F_8y3qlza5ec",
    "outputId": "07e41e13-7ebf-4cf3-aec0-08a438811796"
   },
   "outputs": [],
   "source": [
    "df.info()"
   ]
  },
  {
   "cell_type": "markdown",
   "metadata": {
    "colab_type": "text",
    "id": "1dTPVmmsgOVx"
   },
   "source": [
    "The values in the columns `load`, `solar` and `wind` are provided in the unit megawatt (MW) as integers.\n",
    "\n",
    "While we did already parse the `datetime` column into the respective datetime type, it currently is just a regular column. To enable quick and convenient queries and aggregations, we need to turn it into the index of the DataFrame:"
   ]
  },
  {
   "cell_type": "code",
   "execution_count": null,
   "metadata": {
    "colab": {},
    "colab_type": "code",
    "executionInfo": {
     "elapsed": 4132,
     "status": "ok",
     "timestamp": 1598364814167,
     "user": {
      "displayName": "Marian Dörk",
      "photoUrl": "https://lh3.googleusercontent.com/a-/AOh14GhqiajTdRS6NXELnqFzS3NNM3uxy6nUDGSMCjvAjw=s64",
      "userId": "05248840544598202773"
     },
     "user_tz": -120
    },
    "id": "HB3YmsPRf9dJ"
   },
   "outputs": [],
   "source": [
    "df = df.set_index(\"datetime\")"
   ]
  },
  {
   "cell_type": "markdown",
   "metadata": {
    "colab_type": "text",
    "id": "t89mOmCZhIdp"
   },
   "source": [
    "When we run `df.info()` again, you will see that the DataFrame now has a `DatetimeIndex`:"
   ]
  },
  {
   "cell_type": "code",
   "execution_count": null,
   "metadata": {
    "colab": {
     "base_uri": "https://localhost:8080/",
     "height": 187
    },
    "colab_type": "code",
    "executionInfo": {
     "elapsed": 4119,
     "status": "ok",
     "timestamp": 1598364814168,
     "user": {
      "displayName": "Marian Dörk",
      "photoUrl": "https://lh3.googleusercontent.com/a-/AOh14GhqiajTdRS6NXELnqFzS3NNM3uxy6nUDGSMCjvAjw=s64",
      "userId": "05248840544598202773"
     },
     "user_tz": -120
    },
    "id": "35CSAx7Ig29K",
    "outputId": "4793c0d2-ba34-46d2-ed0d-ce3e0d0f436b"
   },
   "outputs": [],
   "source": [
    "df.info()"
   ]
  },
  {
   "cell_type": "markdown",
   "metadata": {
    "colab_type": "text",
    "id": "RpRQRpK0Um5n"
   },
   "source": [
    "The `DatetimeIndex` provides a few handy methods to extract temporal units such as months, days, week of the year, etc.: "
   ]
  },
  {
   "cell_type": "code",
   "execution_count": null,
   "metadata": {
    "colab": {
     "base_uri": "https://localhost:8080/",
     "height": 34
    },
    "colab_type": "code",
    "executionInfo": {
     "elapsed": 4091,
     "status": "ok",
     "timestamp": 1598364814168,
     "user": {
      "displayName": "Marian Dörk",
      "photoUrl": "https://lh3.googleusercontent.com/a-/AOh14GhqiajTdRS6NXELnqFzS3NNM3uxy6nUDGSMCjvAjw=s64",
      "userId": "05248840544598202773"
     },
     "user_tz": -120
    },
    "id": "_xYFzLnvjS3t",
    "outputId": "c8bfe5b3-0eb2-49cc-b84d-fb0a06cce86a"
   },
   "outputs": [],
   "source": [
    "df.index.year.unique()"
   ]
  },
  {
   "cell_type": "markdown",
   "metadata": {
    "colab_type": "text",
    "id": "SrkSq41Qlkz-"
   },
   "source": [
    "*Look here for syntax to extract any other [temporal attributes](https://pandas.pydata.org/pandas-docs/stable/reference/api/pandas.DatetimeIndex.html)*"
   ]
  },
  {
   "cell_type": "markdown",
   "metadata": {
    "colab_type": "text",
    "id": "eNEzc_npz4X2"
   },
   "source": [
    "#### 2. Process\n",
    "\n",
    "The dataset contains over 35000 rows each of which contains data on overall energy load and renewable energy production. To make sense of all this data, we need to process the time series data into various chunks and sizes!\n"
   ]
  },
  {
   "cell_type": "markdown",
   "metadata": {
    "colab_type": "text",
    "id": "8mOmPkkhddT_"
   },
   "source": [
    "### Query time points and spans\n",
    "\n",
    "A particular powerful feature of the Pandas DataFrame is its indexing capability that also works using time-based entities, such as dates and times. We have already created the index above, so let's put it to use.\n",
    "\n",
    "One useful function of a temporal index, is its querying function. We can quickly extract the rows for a given time point or period.\n",
    "\n",
    "Let's get the data for the day with the most daylight of 2017, i.e., the summer solstice or midsummer:"
   ]
  },
  {
   "cell_type": "code",
   "execution_count": null,
   "metadata": {
    "colab": {
     "base_uri": "https://localhost:8080/",
     "height": 824
    },
    "colab_type": "code",
    "executionInfo": {
     "elapsed": 4051,
     "status": "ok",
     "timestamp": 1598364814169,
     "user": {
      "displayName": "Marian Dörk",
      "photoUrl": "https://lh3.googleusercontent.com/a-/AOh14GhqiajTdRS6NXELnqFzS3NNM3uxy6nUDGSMCjvAjw=s64",
      "userId": "05248840544598202773"
     },
     "user_tz": -120
    },
    "id": "z_ODLzpYuiBP",
    "outputId": "0219c43a-72dc-4f6c-b9d7-325548a9e8a1"
   },
   "outputs": [],
   "source": [
    "df.loc[\"2017-06-21\"]"
   ]
  },
  {
   "cell_type": "markdown",
   "metadata": {
    "colab_type": "text",
    "id": "VDC4Q9wGtkLX"
   },
   "source": [
    "Above query is an example of partial-string indexing: while our `DateTime` column actually contains time information as well, you can query it quickly (!) with just the date, or even a shorter query:"
   ]
  },
  {
   "cell_type": "code",
   "execution_count": null,
   "metadata": {
    "colab": {
     "base_uri": "https://localhost:8080/",
     "height": 450
    },
    "colab_type": "code",
    "executionInfo": {
     "elapsed": 4232,
     "status": "ok",
     "timestamp": 1598364814383,
     "user": {
      "displayName": "Marian Dörk",
      "photoUrl": "https://lh3.googleusercontent.com/a-/AOh14GhqiajTdRS6NXELnqFzS3NNM3uxy6nUDGSMCjvAjw=s64",
      "userId": "05248840544598202773"
     },
     "user_tz": -120
    },
    "id": "8uoWkuREv3KB",
    "outputId": "d4b91894-2e8b-42cb-ba2c-bc6c118f9a95"
   },
   "outputs": [],
   "source": [
    "df.loc[\"2017-06\"]"
   ]
  },
  {
   "cell_type": "markdown",
   "metadata": {
    "colab_type": "text",
    "id": "zgMkdlG4v_Os"
   },
   "source": [
    "You can also query a time period. Do you remember the storm Xavier that hit Germany in early October 2017? Let's retrieve the data around this time:"
   ]
  },
  {
   "cell_type": "code",
   "execution_count": null,
   "metadata": {
    "colab": {
     "base_uri": "https://localhost:8080/",
     "height": 450
    },
    "colab_type": "code",
    "executionInfo": {
     "elapsed": 4201,
     "status": "ok",
     "timestamp": 1598364814384,
     "user": {
      "displayName": "Marian Dörk",
      "photoUrl": "https://lh3.googleusercontent.com/a-/AOh14GhqiajTdRS6NXELnqFzS3NNM3uxy6nUDGSMCjvAjw=s64",
      "userId": "05248840544598202773"
     },
     "user_tz": -120
    },
    "id": "nCsrtgu9wWyc",
    "outputId": "5327eb5a-d6f8-41ee-e7cf-7b99b63111a2"
   },
   "outputs": [],
   "source": [
    "df.loc[\"2017-10-04\":\"2017-10-06\"]"
   ]
  },
  {
   "cell_type": "markdown",
   "metadata": {
    "colab_type": "text",
    "id": "IvsXOkJRd3Vc"
   },
   "source": [
    "##### Aggregate values along time\n",
    "\n",
    "The data we retrieved from OPSD, comes in the granularity of hours. To better understand the data it can be useful to reduce the data resolution and consider, for example, the total energy used/produced everyday or the daily averages over the course of entire years."
   ]
  },
  {
   "cell_type": "markdown",
   "metadata": {
    "colab_type": "text",
    "id": "15dqnyKrtXur"
   },
   "source": [
    "The DataFrame's `resample()` [doc](https://pandas.pydata.org/pandas-docs/stable/reference/api/pandas.DataFrame.resample.html) method provides a concise and quick way of aggregating temporally indexed data along time units. Here we create a DataFrame with summed up values for each year aggregated from the original dataset:"
   ]
  },
  {
   "cell_type": "code",
   "execution_count": null,
   "metadata": {
    "colab": {
     "base_uri": "https://localhost:8080/",
     "height": 204
    },
    "colab_type": "code",
    "executionInfo": {
     "elapsed": 4170,
     "status": "ok",
     "timestamp": 1598364814385,
     "user": {
      "displayName": "Marian Dörk",
      "photoUrl": "https://lh3.googleusercontent.com/a-/AOh14GhqiajTdRS6NXELnqFzS3NNM3uxy6nUDGSMCjvAjw=s64",
      "userId": "05248840544598202773"
     },
     "user_tz": -120
    },
    "id": "zH4DzR1IsbKk",
    "outputId": "82fc2b71-226e-4fd7-dbc3-eb3006c5e4f9"
   },
   "outputs": [],
   "source": [
    "sums = df.resample(\"Y\").sum()\n",
    "sums"
   ]
  },
  {
   "cell_type": "markdown",
   "metadata": {
    "colab_type": "text",
    "id": "r22UKH1u1dke"
   },
   "source": [
    "The resample operations can also be carried out one after another. For example, we might want to know how weekly energy use/production varies between the quarters:"
   ]
  },
  {
   "cell_type": "code",
   "execution_count": null,
   "metadata": {
    "colab": {
     "base_uri": "https://localhost:8080/",
     "height": 607
    },
    "colab_type": "code",
    "executionInfo": {
     "elapsed": 4140,
     "status": "ok",
     "timestamp": 1598364814385,
     "user": {
      "displayName": "Marian Dörk",
      "photoUrl": "https://lh3.googleusercontent.com/a-/AOh14GhqiajTdRS6NXELnqFzS3NNM3uxy6nUDGSMCjvAjw=s64",
      "userId": "05248840544598202773"
     },
     "user_tz": -120
    },
    "id": "KdUr-KoLub2W",
    "outputId": "216c4dfd-fb0e-46ee-c13c-33e5cb6c927f"
   },
   "outputs": [],
   "source": [
    "# first we create the sums per week\n",
    "weekly_sums = df.resample(\"W\").sum()\n",
    "# then we generate the weekly means for each quarter\n",
    "quarterly_means = weekly_sums.resample(\"Q\").mean()\n",
    "# for readability we'll revert the values back to integers\n",
    "quarterly_means.astype(int)"
   ]
  },
  {
   "cell_type": "markdown",
   "metadata": {
    "colab_type": "text",
    "id": "N7jNS6bHz4g1"
   },
   "source": [
    "##### 3. Present\n",
    "\n",
    "Enough data processing. It's time for visualization!"
   ]
  },
  {
   "cell_type": "markdown",
   "metadata": {
    "colab_type": "text",
    "id": "y3Uh0LTn7pU2"
   },
   "source": [
    "#### Time spans\n",
    "\n",
    "One of the first time visualizations was [*A Chart of Biography*](https://en.wikipedia.org/wiki/A_Chart_of_Biography) (1765) by Joseph Priestley. Let's create a similar visualization of the US presidencies since World War II. First we load the CSV file with `pd.read_csv()`:"
   ]
  },
  {
   "cell_type": "code",
   "execution_count": null,
   "metadata": {
    "colab": {},
    "colab_type": "code",
    "executionInfo": {
     "elapsed": 4836,
     "status": "ok",
     "timestamp": 1598364815106,
     "user": {
      "displayName": "Marian Dörk",
      "photoUrl": "https://lh3.googleusercontent.com/a-/AOh14GhqiajTdRS6NXELnqFzS3NNM3uxy6nUDGSMCjvAjw=s64",
      "userId": "05248840544598202773"
     },
     "user_tz": -120
    },
    "id": "qj_2QGNi7uUP"
   },
   "outputs": [],
   "source": [
    "presidents = pd.read_csv('us_presidents.csv')"
   ]
  },
  {
   "cell_type": "code",
   "execution_count": null,
   "metadata": {},
   "outputs": [],
   "source": [
    "presidents.shape"
   ]
  },
  {
   "cell_type": "code",
   "execution_count": null,
   "metadata": {},
   "outputs": [],
   "source": [
    "presidents.head()"
   ]
  },
  {
   "cell_type": "code",
   "execution_count": null,
   "metadata": {},
   "outputs": [],
   "source": [
    "presidents.tail()"
   ]
  },
  {
   "cell_type": "code",
   "execution_count": null,
   "metadata": {},
   "outputs": [],
   "source": [
    "presidents.info()"
   ]
  },
  {
   "cell_type": "markdown",
   "metadata": {
    "colab_type": "text",
    "id": "uqBpJrP83-2D"
   },
   "source": [
    "The start and end times of the presidencies are given as four-digit integers, i.e., years. To convey towards Pandas and Altair that the start and end columns are actually dates, we need to parse them using the `to_datetime()` method:"
   ]
  },
  {
   "cell_type": "code",
   "execution_count": null,
   "metadata": {
    "colab": {},
    "colab_type": "code",
    "executionInfo": {
     "elapsed": 4833,
     "status": "ok",
     "timestamp": 1598364815108,
     "user": {
      "displayName": "Marian Dörk",
      "photoUrl": "https://lh3.googleusercontent.com/a-/AOh14GhqiajTdRS6NXELnqFzS3NNM3uxy6nUDGSMCjvAjw=s64",
      "userId": "05248840544598202773"
     },
     "user_tz": -120
    },
    "id": "qO-WLxkT4ATc"
   },
   "outputs": [],
   "source": [
    "presidents['start'] = pd.to_datetime(presidents['start'], format=\"%Y\") \n",
    "presidents['end'] = pd.to_datetime(presidents['end'], format=\"%Y\") "
   ]
  },
  {
   "cell_type": "markdown",
   "metadata": {
    "colab_type": "text",
    "id": "KVXmMMv45Fuf"
   },
   "source": [
    "The following chart consists of two parts: `bars` and `labels`. The former will be the main bar chart representing the time spans of the presidencies, and the latter will add the presidents' names. This way we can position the labels right next to the bars, much nicer!"
   ]
  },
  {
   "cell_type": "code",
   "execution_count": null,
   "metadata": {
    "colab": {
     "base_uri": "https://localhost:8080/",
     "height": 323
    },
    "colab_type": "code",
    "executionInfo": {
     "elapsed": 4818,
     "status": "ok",
     "timestamp": 1598364815108,
     "user": {
      "displayName": "Marian Dörk",
      "photoUrl": "https://lh3.googleusercontent.com/a-/AOh14GhqiajTdRS6NXELnqFzS3NNM3uxy6nUDGSMCjvAjw=s64",
      "userId": "05248840544598202773"
     },
     "user_tz": -120
    },
    "id": "ldJPtaC45Gam",
    "outputId": "19fd5740-e61a-4c3d-bb16-40090afbce6d"
   },
   "outputs": [],
   "source": [
    "# we add height as a parameter to make the time spans appear less clunky\n",
    "bars = alt.Chart(presidents).mark_bar(height=5).encode(\n",
    "    # this time we need two columns for x-position\n",
    "    x='start', x2='end',\n",
    "    # we sort by start dates and hide the axis, as names are added below\n",
    "    y=alt.Y('name', sort='x', axis=None),\n",
    "    color=\"party\"\n",
    ")\n",
    "\n",
    "# the labels are added to the barchart using the mark_text command\n",
    "labels = bars.mark_text(align='right', dx=-5).encode(text='name')\n",
    "\n",
    "# both charts integrated into a layered chart through the magic of a plus sign\n",
    "(bars + labels).properties(width=800, height=400)"
   ]
  },
  {
   "cell_type": "markdown",
   "metadata": {
    "colab_type": "text",
    "id": "gYYXypmu8t1i"
   },
   "source": [
    "##### Overall trends\n",
    "\n",
    "Next, we are going to return to the energy time series data that we prepared above. Remember that the original dataset has an hourly resolution resulting in too many data points to visualize at once. Altair itself handles at most 5000 data rows.\n",
    "\n",
    "To reduce the dataset into a manageable size, we  will create daily sums with the `resample()` method of the DateTimeIndex:"
   ]
  },
  {
   "cell_type": "code",
   "execution_count": null,
   "metadata": {
    "colab": {},
    "colab_type": "code",
    "executionInfo": {
     "elapsed": 4800,
     "status": "ok",
     "timestamp": 1598364815109,
     "user": {
      "displayName": "Marian Dörk",
      "photoUrl": "https://lh3.googleusercontent.com/a-/AOh14GhqiajTdRS6NXELnqFzS3NNM3uxy6nUDGSMCjvAjw=s64",
      "userId": "05248840544598202773"
     },
     "user_tz": -120
    },
    "id": "bQbt4i8n8z-J"
   },
   "outputs": [],
   "source": [
    "days = df.resample(\"D\").sum()"
   ]
  },
  {
   "cell_type": "markdown",
   "metadata": {
    "colab_type": "text",
    "id": "J2IGlcuJ-imN"
   },
   "source": [
    "To visualize the contents of the DataFrame with Altair, we turn the date/time information in the index into its own column `datetime` again and transform the DataFrame from [wide to long form](https://altair-viz.github.io/user_guide/data.html#long-form-vs-wide-form-data) using the `melt()` method. We pass the name of the `datetime` column to the melt method so that it is treated as an index variable. To keep it short, these two steps `reset_index()` and `melt(\"datetime\")` are done in one go right when we create the `Chart()`, which is what we are going to the in the rest of the tutorial.\n",
    "\n",
    "Now let's start with a scatterplot visualization of the daily data:"
   ]
  },
  {
   "cell_type": "code",
   "execution_count": null,
   "metadata": {},
   "outputs": [],
   "source": [
    "# Break down the long form of the data so we can see that it works\n",
    "days.reset_index().melt(\"datetime\",var_name='Type')"
   ]
  },
  {
   "cell_type": "code",
   "execution_count": null,
   "metadata": {
    "colab": {
     "base_uri": "https://localhost:8080/",
     "height": 468
    },
    "colab_type": "code",
    "executionInfo": {
     "elapsed": 5413,
     "status": "ok",
     "timestamp": 1598364815735,
     "user": {
      "displayName": "Marian Dörk",
      "photoUrl": "https://lh3.googleusercontent.com/a-/AOh14GhqiajTdRS6NXELnqFzS3NNM3uxy6nUDGSMCjvAjw=s64",
      "userId": "05248840544598202773"
     },
     "user_tz": -120
    },
    "id": "aTaxd7_AmyB_",
    "outputId": "6d117de6-c3e3-432e-8814-418838cd49a6"
   },
   "outputs": [],
   "source": [
    "alt.Chart(days.reset_index().melt(\"datetime\")).mark_circle().encode(\n",
    "    x='datetime',\n",
    "    y='value',\n",
    "    color='variable',\n",
    ").properties(width=800, height=400)"
   ]
  },
  {
   "cell_type": "markdown",
   "metadata": {
    "colab_type": "text",
    "id": "yLWFYj5YBXXZ"
   },
   "source": [
    "With this our eyes can already see several patterns going on. Some are more dictinct than others. Interestingly, the load data (blue) seems to have two separate, but parallel curves…\n",
    "\n",
    "✏️ *There is a lot of overplotting going on. Reduce the `size` and `opacity` of all dots, by passing these as parameters to `mark_circle`!*"
   ]
  },
  {
   "cell_type": "markdown",
   "metadata": {
    "colab_type": "text",
    "id": "Vhq0jmC7BoUf"
   },
   "source": [
    "Next, we are going to connect the dots and create a line chart form this data. So basically the same code as above, except we're now using `mark_line()` instead of `mark_circle`:"
   ]
  },
  {
   "cell_type": "code",
   "execution_count": null,
   "metadata": {
    "colab": {
     "base_uri": "https://localhost:8080/",
     "height": 468
    },
    "colab_type": "code",
    "executionInfo": {
     "elapsed": 5895,
     "status": "ok",
     "timestamp": 1598364816244,
     "user": {
      "displayName": "Marian Dörk",
      "photoUrl": "https://lh3.googleusercontent.com/a-/AOh14GhqiajTdRS6NXELnqFzS3NNM3uxy6nUDGSMCjvAjw=s64",
      "userId": "05248840544598202773"
     },
     "user_tz": -120
    },
    "id": "O3bPvJ-7-k4n",
    "outputId": "7d4d5cd6-ed11-461e-e3ce-8d3cd04ba5c7"
   },
   "outputs": [],
   "source": [
    "alt.Chart(days.reset_index().melt(\"datetime\")).mark_line(strokeWidth=1).encode(\n",
    "    x='datetime',\n",
    "    y='value',\n",
    "    color='variable',\n",
    ").properties(width=800, height=400)"
   ]
  },
  {
   "cell_type": "markdown",
   "metadata": {
    "colab_type": "text",
    "id": "RSoqecNLmbbl"
   },
   "source": [
    "This chart already shows a lot: we can see weekly patterns—the jittery up and down—in the load (blue) and the seasonal patterns in the form of broad waves in the load and solar curves (blue and yellow). Right around the turn of the year we see a drop of energy load."
   ]
  },
  {
   "cell_type": "markdown",
   "metadata": {
    "colab_type": "text",
    "id": "AK7YFUX6mHnU"
   },
   "source": [
    "While above line chart is truthful to the local fluctuations, it makes it hard to actually grasp the up and down over the course of months and years. Let's change the sampling from days to months to examine the overall patterns in the data."
   ]
  },
  {
   "cell_type": "code",
   "execution_count": null,
   "metadata": {
    "colab": {
     "base_uri": "https://localhost:8080/",
     "height": 488
    },
    "colab_type": "code",
    "executionInfo": {
     "elapsed": 5867,
     "status": "ok",
     "timestamp": 1598364816245,
     "user": {
      "displayName": "Marian Dörk",
      "photoUrl": "https://lh3.googleusercontent.com/a-/AOh14GhqiajTdRS6NXELnqFzS3NNM3uxy6nUDGSMCjvAjw=s64",
      "userId": "05248840544598202773"
     },
     "user_tz": -120
    },
    "id": "dOuMuEBylQTp",
    "outputId": "4df2e3a9-4abb-4c09-de67-8a169c4835eb"
   },
   "outputs": [],
   "source": [
    "months = df.resample(\"M\").sum()\n",
    "\n",
    "# to make the line a bit smoother, we include an interpolate parameter\n",
    "alt.Chart(months.reset_index().melt(\"datetime\")).mark_line(opacity=0.75, interpolate=\"basis\").encode(\n",
    "    x='datetime',\n",
    "    y='value',\n",
    "    color='variable',\n",
    ").properties(width=800, height=400)"
   ]
  },
  {
   "cell_type": "markdown",
   "metadata": {
    "colab_type": "text",
    "id": "YwnpG9bjoW6B"
   },
   "source": [
    "What do you think? The fine-grained jitter is now gone and we might have lost too much detail. In fact, first downsampling the data and then including an interpolation is maybe giving it too much of a treatment (like overusing Photoshop's blur function). For example, the load minima around the turns of the year are not visible as the overall energy load in the winter months appears larger. One the other hand, the solar curve has become an almost perfect sine wave, probably relating to the position of the sun across the year."
   ]
  },
  {
   "cell_type": "markdown",
   "metadata": {
    "colab_type": "text",
    "id": "ZQjP9cKC_r-3"
   },
   "source": [
    "💡 *Play with different granularities in he `resample()` step. For example, use **W** for week or **Q** for quarter!*"
   ]
  },
  {
   "cell_type": "markdown",
   "metadata": {
    "colab_type": "text",
    "id": "Ou56yqJZx6UN"
   },
   "source": [
    "One way to integrate the local and global patterns is to create a layered graph, as we have already done with the presidents' names above. This time we are combining a line chart of the days with a line chart of monthly averages.\n",
    "\n",
    "Note how we ensure that both DataFrames fit the same data scale. As we're looking at energy values per day, we first generate the daily sums and on this basis the monthly means:"
   ]
  },
  {
   "cell_type": "code",
   "execution_count": null,
   "metadata": {
    "colab": {},
    "colab_type": "code",
    "executionInfo": {
     "elapsed": 5848,
     "status": "ok",
     "timestamp": 1598364816245,
     "user": {
      "displayName": "Marian Dörk",
      "photoUrl": "https://lh3.googleusercontent.com/a-/AOh14GhqiajTdRS6NXELnqFzS3NNM3uxy6nUDGSMCjvAjw=s64",
      "userId": "05248840544598202773"
     },
     "user_tz": -120
    },
    "id": "iTPwsLCZyAGX"
   },
   "outputs": [],
   "source": [
    "days = df.resample(\"D\").sum()\n",
    "months = days.resample(\"M\").mean()"
   ]
  },
  {
   "cell_type": "markdown",
   "metadata": {
    "colab_type": "text",
    "id": "BQLJmya_FGdv"
   },
   "source": [
    "Next we create the line charts and combine the two again with the **+** operator:"
   ]
  },
  {
   "cell_type": "code",
   "execution_count": null,
   "metadata": {
    "colab": {
     "base_uri": "https://localhost:8080/",
     "height": 468
    },
    "colab_type": "code",
    "executionInfo": {
     "elapsed": 5836,
     "status": "ok",
     "timestamp": 1598364816246,
     "user": {
      "displayName": "Marian Dörk",
      "photoUrl": "https://lh3.googleusercontent.com/a-/AOh14GhqiajTdRS6NXELnqFzS3NNM3uxy6nUDGSMCjvAjw=s64",
      "userId": "05248840544598202773"
     },
     "user_tz": -120
    },
    "id": "aGHIOA2IFG_F",
    "outputId": "69f50775-055d-4d7d-a051-cefb94dd80f9"
   },
   "outputs": [],
   "source": [
    "chart1 = alt.Chart(days.reset_index().melt(\"datetime\")).mark_line(strokeWidth=1, opacity=0.25).encode(\n",
    "    x='datetime',\n",
    "    y='value',\n",
    "    color='variable',\n",
    ").properties(width=800, height=400)\n",
    "\n",
    "chart2 = alt.Chart(months.reset_index().melt(\"datetime\")).mark_line(interpolate=\"basis\", opacity=1).encode(\n",
    "    x='datetime',\n",
    "    y='value',\n",
    "    color='variable',\n",
    ")\n",
    "\n",
    "chart1 + chart2"
   ]
  },
  {
   "cell_type": "markdown",
   "metadata": {
    "colab_type": "text",
    "id": "mKGsfHpZ0GYV"
   },
   "source": [
    "With this view we already get a good sense of the overall time patterns, while still seeing some of the particular variations.\n",
    "\n",
    "💡 *You can add the `.interactive()` directive to one of these charts to make them zoomable!*"
   ]
  },
  {
   "cell_type": "markdown",
   "metadata": {
    "colab_type": "text",
    "id": "WNf-GlZo5jlU"
   },
   "source": [
    "### Rolling windows\n",
    "\n",
    "While the `resample()` method takes a broad brush and results in a reduced dataset and a chart with smooth curves, `rolling()` offers an alternative way of smoothing out local outliers without actually reducing the resolution of the dataset.\n",
    "\n",
    "The first parameter determines the window size, by positioning the window at the `center` values are considered in both directions of the current date/time, and `win_type` determines how the values across the window are weighted; with the `triang` option the values further away contribute less:"
   ]
  },
  {
   "cell_type": "code",
   "execution_count": null,
   "metadata": {
    "colab": {
     "base_uri": "https://localhost:8080/",
     "height": 468
    },
    "colab_type": "code",
    "executionInfo": {
     "elapsed": 6426,
     "status": "ok",
     "timestamp": 1598364816862,
     "user": {
      "displayName": "Marian Dörk",
      "photoUrl": "https://lh3.googleusercontent.com/a-/AOh14GhqiajTdRS6NXELnqFzS3NNM3uxy6nUDGSMCjvAjw=s64",
      "userId": "05248840544598202773"
     },
     "user_tz": -120
    },
    "id": "9r6RqrkT5tEl",
    "outputId": "0dcabe64-5095-4b85-bba8-ff4d5cc47368"
   },
   "outputs": [],
   "source": [
    "rolling = days.rolling(60, center=True, win_type=\"triang\").mean()\n",
    "\n",
    "chart1 = alt.Chart(rolling.reset_index().melt(\"datetime\")).mark_line(strokeWidth=1.5, opacity=1).encode(\n",
    "    x='datetime', y='value', color='variable',\n",
    ").properties(width=800, height=400)\n",
    "\n",
    "# same as the two charts in previous code cell, except more transparent\n",
    "chart2 = alt.Chart(days.reset_index().melt(\"datetime\")).mark_line(strokeWidth=1, opacity=0.1).encode(\n",
    "    x='datetime', y='value', color='variable',\n",
    ")\n",
    "\n",
    "chart3 = alt.Chart(months.reset_index().melt(\"datetime\")).mark_line(interpolate=\"basis\", opacity=.25).encode(\n",
    "    x='datetime', y='value', color='variable',\n",
    ")\n",
    "\n",
    "chart1 + chart2 + chart3"
   ]
  },
  {
   "cell_type": "markdown",
   "metadata": {
    "colab_type": "text",
    "id": "qiPkRkNDdseR"
   },
   "source": [
    "Above you see the two lines for daily sums and monthly averages from the previous cell (slightly more transparent), on top of which you can see the time curve generated with a rolling window. It is quite apparent that this curve still features more pronounced dips around the end-of-year periods and elsewhere.\n"
   ]
  },
  {
   "cell_type": "markdown",
   "metadata": {
    "colab_type": "text",
    "id": "ZdmVF9s_cve0"
   },
   "source": [
    "💡 *Play around with different window sizes and other parameters in the first line in above cell!*"
   ]
  },
  {
   "cell_type": "markdown",
   "metadata": {
    "colab_type": "text",
    "id": "gr-hu163padN"
   },
   "source": [
    "### Detailed views\n",
    "\n",
    "Some trends seem to pan out at much lower scales, which require higher levels of detail. For example, at the beginning of 2018 we see a peak in the wind energy production. In the winter of 2017/2018 Germany and most of Europe actually witnessed several storms. And so it also happened in the first days of 2018, when [Burglind (a.k.a. Eleanor)](https://en.wikipedia.org/wiki/Storm_Eleanor_(2018)) passed by. Let's take a closer look at the first week of January 2018. For this we extract a subset of the DataFrame using our tried and tested `loc[]`, which lets us select specific time spans:"
   ]
  },
  {
   "cell_type": "code",
   "execution_count": null,
   "metadata": {
    "colab": {
     "base_uri": "https://localhost:8080/",
     "height": 468
    },
    "colab_type": "code",
    "executionInfo": {
     "elapsed": 6401,
     "status": "ok",
     "timestamp": 1598364816863,
     "user": {
      "displayName": "Marian Dörk",
      "photoUrl": "https://lh3.googleusercontent.com/a-/AOh14GhqiajTdRS6NXELnqFzS3NNM3uxy6nUDGSMCjvAjw=s64",
      "userId": "05248840544598202773"
     },
     "user_tz": -120
    },
    "id": "FEUjpokDqX1k",
    "outputId": "78b06ade-0de6-4327-9803-648f3b3714df"
   },
   "outputs": [],
   "source": [
    "burglind = df.loc[\"2018-01-01\":\"2018-01-07\"]\n",
    "\n",
    "alt.Chart(burglind.reset_index().melt(\"datetime\")).mark_line().encode(\n",
    "    x='datetime',\n",
    "    y='value',\n",
    "    color='variable'\n",
    ").properties(width=800, height=400)"
   ]
  },
  {
   "cell_type": "markdown",
   "metadata": {
    "colab_type": "text",
    "id": "Hu_wETpv07zy"
   },
   "source": [
    "### High-level bars\n",
    "\n",
    "In contrast to the detailed close-up, we might also want to look at much more general patterns. Let's say we are curious about the total production of renewable energy over the four years in the dataset. \n",
    "\n",
    "For this we `resample` the original data from hourly data resolution into summed up values per year:"
   ]
  },
  {
   "cell_type": "code",
   "execution_count": null,
   "metadata": {
    "colab": {},
    "colab_type": "code",
    "executionInfo": {
     "elapsed": 6378,
     "status": "ok",
     "timestamp": 1598364816864,
     "user": {
      "displayName": "Marian Dörk",
      "photoUrl": "https://lh3.googleusercontent.com/a-/AOh14GhqiajTdRS6NXELnqFzS3NNM3uxy6nUDGSMCjvAjw=s64",
      "userId": "05248840544598202773"
     },
     "user_tz": -120
    },
    "id": "IdmGYn7z0_Tr"
   },
   "outputs": [],
   "source": [
    "years = df.resample(\"Y\").sum()"
   ]
  },
  {
   "cell_type": "markdown",
   "metadata": {
    "colab_type": "text",
    "id": "mVkdCEF1YouV"
   },
   "source": [
    "Next we create a new column, which contains the summed up values of solar and wind production."
   ]
  },
  {
   "cell_type": "code",
   "execution_count": null,
   "metadata": {
    "colab": {},
    "colab_type": "code",
    "executionInfo": {
     "elapsed": 6373,
     "status": "ok",
     "timestamp": 1598364816864,
     "user": {
      "displayName": "Marian Dörk",
      "photoUrl": "https://lh3.googleusercontent.com/a-/AOh14GhqiajTdRS6NXELnqFzS3NNM3uxy6nUDGSMCjvAjw=s64",
      "userId": "05248840544598202773"
     },
     "user_tz": -120
    },
    "id": "W7ov0n99YsZe"
   },
   "outputs": [],
   "source": [
    "years[\"renewable\"] = years[\"solar\"]+years[\"wind\"]"
   ]
  },
  {
   "cell_type": "markdown",
   "metadata": {
    "colab_type": "text",
    "id": "jyvoNnKnY81R"
   },
   "source": [
    "We `drop` the other value columns:"
   ]
  },
  {
   "cell_type": "code",
   "execution_count": null,
   "metadata": {
    "colab": {},
    "colab_type": "code",
    "executionInfo": {
     "elapsed": 6369,
     "status": "ok",
     "timestamp": 1598364816865,
     "user": {
      "displayName": "Marian Dörk",
      "photoUrl": "https://lh3.googleusercontent.com/a-/AOh14GhqiajTdRS6NXELnqFzS3NNM3uxy6nUDGSMCjvAjw=s64",
      "userId": "05248840544598202773"
     },
     "user_tz": -120
    },
    "id": "WLuPYdzkY9nt"
   },
   "outputs": [],
   "source": [
    "renewable = years.drop(columns=[\"load\", \"solar\", \"wind\"])"
   ]
  },
  {
   "cell_type": "markdown",
   "metadata": {
    "colab_type": "text",
    "id": "3H6OMq_FZp8v"
   },
   "source": [
    "Extract the years and create a specific column:"
   ]
  },
  {
   "cell_type": "code",
   "execution_count": null,
   "metadata": {
    "colab": {
     "base_uri": "https://localhost:8080/",
     "height": 204
    },
    "colab_type": "code",
    "executionInfo": {
     "elapsed": 6358,
     "status": "ok",
     "timestamp": 1598364816865,
     "user": {
      "displayName": "Marian Dörk",
      "photoUrl": "https://lh3.googleusercontent.com/a-/AOh14GhqiajTdRS6NXELnqFzS3NNM3uxy6nUDGSMCjvAjw=s64",
      "userId": "05248840544598202773"
     },
     "user_tz": -120
    },
    "id": "EvZ4gCG0ZyHq",
    "outputId": "5e0e8462-a106-42e5-ee51-5b0d027860df"
   },
   "outputs": [],
   "source": [
    "renewable[\"year\"] = years.index.year\n",
    "renewable"
   ]
  },
  {
   "cell_type": "markdown",
   "metadata": {
    "colab_type": "text",
    "id": "Z4TMg_1GZzYl"
   },
   "source": [
    "And we remove the datetime index, and this time discard it (i.e., `drop=True`), as we have the `year` column already:"
   ]
  },
  {
   "cell_type": "code",
   "execution_count": null,
   "metadata": {
    "colab": {
     "base_uri": "https://localhost:8080/",
     "height": 173
    },
    "colab_type": "code",
    "executionInfo": {
     "elapsed": 6335,
     "status": "ok",
     "timestamp": 1598364816866,
     "user": {
      "displayName": "Marian Dörk",
      "photoUrl": "https://lh3.googleusercontent.com/a-/AOh14GhqiajTdRS6NXELnqFzS3NNM3uxy6nUDGSMCjvAjw=s64",
      "userId": "05248840544598202773"
     },
     "user_tz": -120
    },
    "id": "cMAMGmwqYpPu",
    "outputId": "0174fced-fdaa-4fa8-be8e-904701edb79e"
   },
   "outputs": [],
   "source": [
    "renewable = renewable.reset_index(drop=True)\n",
    "renewable"
   ]
  },
  {
   "cell_type": "markdown",
   "metadata": {
    "colab_type": "text",
    "id": "5BCBHnqlZ-le"
   },
   "source": [
    "Now we can create a simple barchart from this:"
   ]
  },
  {
   "cell_type": "code",
   "execution_count": null,
   "metadata": {
    "colab": {
     "base_uri": "https://localhost:8080/",
     "height": 381
    },
    "colab_type": "code",
    "executionInfo": {
     "elapsed": 6814,
     "status": "ok",
     "timestamp": 1598364817370,
     "user": {
      "displayName": "Marian Dörk",
      "photoUrl": "https://lh3.googleusercontent.com/a-/AOh14GhqiajTdRS6NXELnqFzS3NNM3uxy6nUDGSMCjvAjw=s64",
      "userId": "05248840544598202773"
     },
     "user_tz": -120
    },
    "id": "dP-UbvwdZ_mG",
    "outputId": "10d01675-a86b-4cc8-c9bc-966312961b4c"
   },
   "outputs": [],
   "source": [
    "alt.Chart(renewable).mark_bar(width=30, fill=\"purple\").encode(\n",
    "    x='year:O',\n",
    "    y='renewable:Q'\n",
    ").properties(width=300, height=300)"
   ]
  },
  {
   "cell_type": "markdown",
   "metadata": {
    "colab_type": "text",
    "id": "X3M7Ctp0eAMM"
   },
   "source": [
    "##### Cyclical patterns\n",
    "\n",
    "Previously, we did notice a few recurring patterns in the energy load. One pattern might be due to the weekly work-and-leasure patterns. \n",
    "\n",
    "So let's take a closer look at the average energy `load` over the course of a week:\n"
   ]
  },
  {
   "cell_type": "code",
   "execution_count": null,
   "metadata": {
    "colab": {},
    "colab_type": "code",
    "executionInfo": {
     "elapsed": 6794,
     "status": "ok",
     "timestamp": 1598364817370,
     "user": {
      "displayName": "Marian Dörk",
      "photoUrl": "https://lh3.googleusercontent.com/a-/AOh14GhqiajTdRS6NXELnqFzS3NNM3uxy6nUDGSMCjvAjw=s64",
      "userId": "05248840544598202773"
     },
     "user_tz": -120
    },
    "id": "Ib94TLcR30V2"
   },
   "outputs": [],
   "source": [
    "# remove solar and wind columns\n",
    "weekdays = df.drop(columns=[\"solar\", \"wind\"])\n",
    "\n",
    "# add a column for weekdays\n",
    "weekdays[\"weekday\"] = weekdays.index.weekday"
   ]
  },
  {
   "cell_type": "markdown",
   "metadata": {
    "colab_type": "text",
    "id": "KQn2j8mpd09e"
   },
   "source": [
    "This time we do not use `resample()` to change the data granularity, but `groupby()` to study recurring data patterns, because we are actually interested in the energy load for each *generic* weekday across the entire dataset:"
   ]
  },
  {
   "cell_type": "code",
   "execution_count": null,
   "metadata": {
    "colab": {
     "base_uri": "https://localhost:8080/",
     "height": 364
    },
    "colab_type": "code",
    "executionInfo": {
     "elapsed": 6783,
     "status": "ok",
     "timestamp": 1598364817371,
     "user": {
      "displayName": "Marian Dörk",
      "photoUrl": "https://lh3.googleusercontent.com/a-/AOh14GhqiajTdRS6NXELnqFzS3NNM3uxy6nUDGSMCjvAjw=s64",
      "userId": "05248840544598202773"
     },
     "user_tz": -120
    },
    "id": "8OKVN4CaePGx",
    "outputId": "d33bced9-3910-4d81-8aef-026d95456b28"
   },
   "outputs": [],
   "source": [
    "weekdays = weekdays.groupby(\"weekday\").mean()\n",
    "\n",
    "alt.Chart(weekdays.reset_index()).mark_bar(width=20).encode(\n",
    "    x='weekday:O',\n",
    "    y='load:Q'\n",
    ").properties(width=300, height=300)"
   ]
  },
  {
   "cell_type": "markdown",
   "metadata": {
    "colab_type": "text",
    "id": "tZkSfOda3y_t"
   },
   "source": [
    "It's quite apparent that energy load is lower during weekends."
   ]
  },
  {
   "cell_type": "markdown",
   "metadata": {
    "colab_type": "text",
    "id": "z9YDOLmcpg53"
   },
   "source": [
    "##### Interactive selection\n",
    "\n",
    "If you want it all: A high-level overview and detailed close-ups, you might need two coordinated views:"
   ]
  },
  {
   "cell_type": "code",
   "execution_count": null,
   "metadata": {
    "colab": {
     "base_uri": "https://localhost:8080/",
     "height": 442
    },
    "colab_type": "code",
    "executionInfo": {
     "elapsed": 6761,
     "status": "ok",
     "timestamp": 1598364817373,
     "user": {
      "displayName": "Marian Dörk",
      "photoUrl": "https://lh3.googleusercontent.com/a-/AOh14GhqiajTdRS6NXELnqFzS3NNM3uxy6nUDGSMCjvAjw=s64",
      "userId": "05248840544598202773"
     },
     "user_tz": -120
    },
    "id": "dUXALXHPDE41",
    "outputId": "ef90f4eb-7290-454a-92b2-566ecbc2f5ac"
   },
   "outputs": [],
   "source": [
    "weeks = df.resample(\"W\").sum()\n",
    "days = df.resample(\"D\").sum()\n",
    "\n",
    "brush = alt.selection(type='interval', encodings=['x'])\n",
    "\n",
    "upper = alt.Chart(weeks.reset_index().melt(\"datetime\")).mark_area(interpolate=\"basis\").encode(\n",
    "    x = alt.X('datetime:T', axis=None),\n",
    "    y = alt.Y('value:Q', axis=None),\n",
    "    color='variable'\n",
    ").properties(width=800, height=50).add_selection(brush)\n",
    "\n",
    "lower = alt.Chart(days.reset_index().melt(\"datetime\")).mark_line(strokeWidth=1).encode(\n",
    "    x = alt.X('datetime:T', scale=alt.Scale(domain=brush)),\n",
    "    y='value',\n",
    "    color='variable',\n",
    ").properties(width=800, height=300)\n",
    "\n",
    "upper & lower"
   ]
  },
  {
   "cell_type": "markdown",
   "metadata": {
    "colab_type": "text",
    "id": "1bF-VVGi9qpn"
   },
   "source": [
    "Note: The small stacked graph above the main chart is interactive, you can adjust the viewport of the line graph by dragging a time span with it."
   ]
  },
  {
   "cell_type": "markdown",
   "metadata": {},
   "source": [
    "#### Your turn\n",
    "\n",
    "Apply your understanding of the above topics and answer the following 6 questions"
   ]
  },
  {
   "cell_type": "code",
   "execution_count": null,
   "metadata": {},
   "outputs": [],
   "source": [
    "# 1 - Look at the documentation to translate the string to datetime using the correct format for VE day\n",
    "# pd.to_datetime('8.5.1945 23:01', format=\"\")"
   ]
  },
  {
   "cell_type": "code",
   "execution_count": null,
   "metadata": {},
   "outputs": [],
   "source": [
    "# 2 - append code to `df.index` below that shows what time zone the data is in\n",
    "# df.index"
   ]
  },
  {
   "cell_type": "code",
   "execution_count": null,
   "metadata": {},
   "outputs": [],
   "source": [
    "# 3 - Use date slicing/indexing to find the mean of the solar energy from \n",
    "# 21 June 2018 and the mean of the solar energy from 20 December 2018\n",
    "# df.loc["
   ]
  },
  {
   "cell_type": "code",
   "execution_count": null,
   "metadata": {},
   "outputs": [],
   "source": [
    "# df.loc["
   ]
  },
  {
   "cell_type": "code",
   "execution_count": null,
   "metadata": {},
   "outputs": [],
   "source": [
    "# 4 - How did daily sum energy use/production change over the years? (calculate the daily sum, then the year average)\n",
    "# and show the resulting dataframe"
   ]
  },
  {
   "cell_type": "code",
   "execution_count": null,
   "metadata": {},
   "outputs": [],
   "source": [
    "# 5 - Create a horizontal bar chart showing total renewable energy over the years "
   ]
  },
  {
   "cell_type": "code",
   "execution_count": null,
   "metadata": {},
   "outputs": [],
   "source": [
    "# 6 - Show the wind energy for the month of Dec 2018 along with the Savitzky–Golay filter line overlayed on top. \n",
    "# as a line chart.  Set your window for one week of data. Play around with the polynomial order until you \n",
    "# get something you like. "
   ]
  },
  {
   "cell_type": "markdown",
   "metadata": {
    "colab_type": "text",
    "id": "tElb-jEcz3HM"
   },
   "source": [
    "## Sources\n",
    "\n",
    "Tutorials & Examples\n",
    "- [​​​​Tutorial: Time Series Analysis with Pandas by Jennifer Walker](https://www.dataquest.io/blog/tutorial-time-series-analysis-with-pandas/)\n",
    "- [Altair Interval Selection Example](https://altair-viz.github.io/gallery/interval_selection.html)\n",
    "\n",
    "Documentation: Pandas\n",
    "- [Time series / date functionality](https://pandas.pydata.org/pandas-docs/stable/user_guide/timeseries.html)\n",
    "- [Timestamp](https://pandas.pydata.org/pandas-docs/stable/reference/api/pandas.Timestamp.html)\n",
    "- [DatetimeIndex](https://pandas.pydata.org/pandas-docs/stable/reference/api/pandas.DatetimeIndex.html)\n",
    "- [Time-aware rolling vs. resampling](https://pandas.pydata.org/pandas-docs/stable/user_guide/computation.html#time-aware-rolling-vs-resampling)\n",
    "\n"
   ]
  }
 ],
 "metadata": {
  "colab": {
   "authorship_tag": "ABX9TyNb3cbwSN8HNs3KMF1R+1Yb",
   "collapsed_sections": [],
   "name": "infovis4time.ipynb",
   "provenance": [],
   "toc_visible": true
  },
  "kernelspec": {
   "display_name": "Python 3 (ipykernel)",
   "language": "python",
   "name": "python3"
  },
  "language_info": {
   "codemirror_mode": {
    "name": "ipython",
    "version": 3
   },
   "file_extension": ".py",
   "mimetype": "text/x-python",
   "name": "python",
   "nbconvert_exporter": "python",
   "pygments_lexer": "ipython3",
   "version": "3.11.4"
  }
 },
 "nbformat": 4,
 "nbformat_minor": 4
}
